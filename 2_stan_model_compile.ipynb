{
 "cells": [
  {
   "cell_type": "code",
   "execution_count": 2,
   "metadata": {},
   "outputs": [],
   "source": [
    "import os\n",
    "import pickle\n",
    "\n",
    "import numpy as np\n",
    "import pandas as pd\n",
    "import arviz as az\n",
    "import xarray as xr\n",
    "\n",
    "import matplotlib.pyplot as plt\n",
    "import matplotlib as mpl\n",
    "%matplotlib inline\n",
    "\n",
    "import pystan\n",
    "%load_ext jupyterstan\n",
    "\n",
    "PROJECT_ROOT_DIR = \".\"\n",
    "IMAGES_PATH = os.path.join(PROJECT_ROOT_DIR, \"images\")\n",
    "STAN_MODEL_PATH = os.path.join(PROJECT_ROOT_DIR, \"stan_models\")\n",
    "STAN_DATA_PATH = os.path.join(PROJECT_ROOT_DIR,'data')"
   ]
  },
  {
   "cell_type": "markdown",
   "metadata": {},
   "source": [
    "## 几个有用的函数\n",
    "- save_fig:用于保存仿真的图片到文件\n",
    "\n",
    "- StanModel_cache: 保存编译好的Stan模型\n",
    "\n",
    "- StanModel_load: 载入保存的Stan模型"
   ]
  },
  {
   "cell_type": "code",
   "execution_count": 3,
   "metadata": {},
   "outputs": [],
   "source": [
    "def save_fig(fig_id, tight_layout=True, fig_extension=\"png\", resolution=300):\n",
    "    path = os.path.join(IMAGES_PATH, fig_id + \".\" + fig_extension)\n",
    "    print(\"Saving figure\", fig_id)\n",
    "    if tight_layout:\n",
    "        plt.tight_layout()\n",
    "    plt.savefig(path, format=fig_extension, dpi=resolution)\n",
    "    \n",
    "\n",
    "# 将编译好的模型，存储成pickle，供直接使用\n",
    "def StanData_cache(var, data_name, **kwargs):\n",
    "    path = os.path.join(STAN_DATA_PATH, data_name + '.pkl')\n",
    "    with open(path,'wb') as f:\n",
    "        pickle.dump(var, f)\n",
    "    print(\"DATA cached as:\" + data_name +'.pkl')\n",
    "    \n",
    "    \n",
    "def StanData_load(data_name):\n",
    "    path = os.path.join(STAN_DATA_PATH, data_name + '.pkl')\n",
    "    try:\n",
    "        sm = pickle.load(open(path, 'rb'))\n",
    "    except:\n",
    "        raise FileNotFoundError\n",
    "    else:\n",
    "        print(\"Using cached StanDATA: \" + data_name)\n",
    "    return sm\n",
    "\n",
    "# 将编译好的模型，存储成pickle，供直接使用\n",
    "def StanModel_cache(compiled_model, model_name, **kwargs):\n",
    "    path = os.path.join(STAN_MODEL_PATH, model_name + '.pkl')\n",
    "    with open(path,'wb') as f:\n",
    "        pickle.dump(compiled_model, f)\n",
    "    print(\"Model cached as:\" + model_name +'.pkl')\n",
    "    \n",
    "    \n",
    "def StanModel_load(model_name):\n",
    "    path = os.path.join(STAN_MODEL_PATH, model_name + '.pkl')\n",
    "    try:\n",
    "        sm = pickle.load(open(path, 'rb'))\n",
    "    except:\n",
    "        raise FileNotFoundError\n",
    "    else:\n",
    "        print(\"Using cached StanModel\")\n",
    "    return sm"
   ]
  },
  {
   "cell_type": "markdown",
   "metadata": {},
   "source": [
    "## stan模型"
   ]
  },
  {
   "cell_type": "markdown",
   "metadata": {},
   "source": [
    "### 指数相关函数，带测量误差"
   ]
  },
  {
   "cell_type": "code",
   "execution_count": 4,
   "metadata": {},
   "outputs": [
    {
     "name": "stderr",
     "output_type": "stream",
     "text": [
      "INFO:pystan:COMPILING THE C++ CODE FOR MODEL exponential_cov_measure_error_968f3a417ff91cc5195735a6fbe55b63 NOW.\n"
     ]
    },
    {
     "name": "stdout",
     "output_type": "stream",
     "text": [
      "Creating pystan model & assigning it to variable name \"exponential_cov_measure_error\".\n",
      "Stan options:\n",
      " {'model_name': 'exponential_cov_measure_error', 'include_paths': None, 'boost_lib': None, 'eigen_lib': None, 'verbose': False, 'obfuscate_model_name': True}\n",
      "StanModel now available as variable \"exponential_cov_measure_error\"!\n",
      "Compilation took a minute.\n"
     ]
    }
   ],
   "source": [
    "%%stan exponential_cov_measure_error\n",
    "functions {\n",
    "  matrix cov_exponential(matrix distance_between, real sigma, real fai) {\n",
    "    int N=rows(distance_between);\n",
    "    matrix[N, N] cov;\n",
    "    for (i in 1:N){\n",
    "      for (j in 1:N){\n",
    "        if (i==j)\n",
    "          cov[i, j] = 1;\n",
    "        else\n",
    "          cov[i,j] = square(sigma) * exp(-1*fai*distance_between[i,j]);\n",
    "      }\n",
    "    }\n",
    "    \n",
    "    return cov;\n",
    "  }\n",
    "}\n",
    "\n",
    "data {\n",
    "  int<lower=1> D; //数据组数\n",
    "  int<lower=1> N; //感知节点个数\n",
    "  vector[N] recv_x;// 每组数据有N个感知节点\n",
    "  vector[N] recv_y;// \n",
    "  real tran_power[D]; //信号源发送功率\n",
    "  real tran_x[D]; //信号源坐标\n",
    "  real tran_y[D];\n",
    "  vector[N] tran_recv_distance[D];\n",
    "  vector[N] Y[D]; \n",
    "}\n",
    "\n",
    "transformed data {\n",
    "  matrix[N, N] distance_between_recv;\n",
    "  for (i in 1:N){\n",
    "    for (j in 1:N){\n",
    "      distance_between_recv[i,j] = sqrt((recv_x[i]-recv_x[j])^2 + (recv_y[i]-recv_y[j])^2);\n",
    "    }\n",
    "  }\n",
    "}\n",
    "\n",
    "parameters {\n",
    "  real gama; // 自由空间传播损耗因子\n",
    "  real fai;  // matern 协方差函数的距离 参数\n",
    "  real sigma; // 空间方差  \n",
    "  real sigma_eta; // 测量误差\n",
    "}\n",
    "\n",
    "transformed parameters {\n",
    "\n",
    "}\n",
    "\n",
    "model {\n",
    "  matrix[N,N] bigSigma;\n",
    "  vector[N] i_vec = rep_vector(1.0, N);\n",
    "  matrix[N, N] unit_matrix = diag_matrix(i_vec);\n",
    "  \n",
    "  /********************/\n",
    "  /*    指定先验分布    */\n",
    "  /********************/\n",
    "  gama ~ uniform(1,10);\n",
    "  fai ~ normal(20, 100);\n",
    "  sigma ~ inv_gamma(2, 10);\n",
    "  sigma_eta ~ inv_gamma(2, 10);\n",
    " \n",
    "  bigSigma = cov_exponential(distance_between_recv, sigma, fai) + square(sigma_eta)*unit_matrix;\n",
    "  for (i in 1:D){\n",
    "    Y[i] ~ multi_normal(tran_power[i] - 10 * gama * log10(tran_recv_distance[i]), bigSigma); \n",
    "  }\n",
    "   \n",
    "}"
   ]
  },
  {
   "cell_type": "markdown",
   "metadata": {},
   "source": [
    "###  文件"
   ]
  },
  {
   "cell_type": "code",
   "execution_count": 8,
   "metadata": {},
   "outputs": [
    {
     "name": "stdout",
     "output_type": "stream",
     "text": [
      "Model cached as:exponential_cov_measure_error.pkl\n"
     ]
    }
   ],
   "source": [
    "StanModel_cache(exponential_cov_measure_error, 'exponential_cov_measure_error')"
   ]
  },
  {
   "cell_type": "markdown",
   "metadata": {},
   "source": [
    "### 指数相关函数，不带测量误差"
   ]
  },
  {
   "cell_type": "code",
   "execution_count": 6,
   "metadata": {},
   "outputs": [
    {
     "name": "stderr",
     "output_type": "stream",
     "text": [
      "INFO:pystan:COMPILING THE C++ CODE FOR MODEL exponential_cov_no_error_deb3c9acd90a80ff01f1be975e9efa7e NOW.\n"
     ]
    },
    {
     "name": "stdout",
     "output_type": "stream",
     "text": [
      "Creating pystan model & assigning it to variable name \"exponential_cov_no_error\".\n",
      "Stan options:\n",
      " {'model_name': 'exponential_cov_no_error', 'include_paths': None, 'boost_lib': None, 'eigen_lib': None, 'verbose': False, 'obfuscate_model_name': True}\n",
      "StanModel now available as variable \"exponential_cov_no_error\"!\n",
      "Compilation took a minute.\n"
     ]
    }
   ],
   "source": [
    "%%stan exponential_cov_no_error\n",
    "functions {\n",
    "  matrix cov_exponential(matrix distance_between, real sigma, real fai) {\n",
    "    int N=rows(distance_between);\n",
    "    matrix[N, N] cov;\n",
    "    for (i in 1:N){\n",
    "      for (j in 1:N){\n",
    "        if (i==j)\n",
    "          cov[i, j] = 1;\n",
    "        else\n",
    "          cov[i,j] = square(sigma) * exp(-1*fai*distance_between[i,j]);\n",
    "      }\n",
    "    }\n",
    "    \n",
    "    return cov;\n",
    "  }\n",
    "}\n",
    "\n",
    "data {\n",
    "  int<lower=1> D; //数据组数\n",
    "  int<lower=1> N; //感知节点个数\n",
    "  vector[N] recv_x;// 每组数据有N个感知节点\n",
    "  vector[N] recv_y;// \n",
    "  real tran_power[D]; //信号源发送功率\n",
    "  real tran_x[D]; //信号源坐标\n",
    "  real tran_y[D];\n",
    "  vector[N] tran_recv_distance[D];\n",
    "  vector[N] Y[D];\n",
    " \n",
    "}\n",
    "\n",
    "transformed data {\n",
    "  matrix[N, N] distance_between_recv;\n",
    "  for (i in 1:N){\n",
    "    for (j in 1:N){\n",
    "      distance_between_recv[i,j] = sqrt((recv_x[i]-recv_x[j])^2 + (recv_y[i]-recv_y[j])^2);\n",
    "    }\n",
    "  }\n",
    "}\n",
    "\n",
    "parameters {\n",
    "  real gama; // 自由空间传播损耗因子\n",
    "  real fai;  // matern 协方差函数的距离 参数\n",
    "  real sigma; // 空间方差  \n",
    " // real sigma_eta; // 测量误差\n",
    "}\n",
    "transformed parameters {\n",
    "\n",
    "}\n",
    "\n",
    "model {\n",
    "  matrix[N,N] bigSigma;\n",
    "  //vector[N] i_vec = rep_vector(1.0, N);\n",
    "  //matrix[N, N] unit_matrix = diag_matrix(i_vec);\n",
    "  \n",
    "  /********************/\n",
    "  /*    指定先验分布    */\n",
    "  /********************/\n",
    "  gama ~ uniform(1,10);\n",
    "  fai ~ normal(20, 100);\n",
    "  sigma ~ inv_gamma(2, 10);\n",
    "  //sigma_eta ~ inv_gamma(2, 1);\n",
    " \n",
    "  \n",
    "  \n",
    "  bigSigma = cov_exponential(distance_between_recv, sigma, fai); //+ square(sigma_eta)*unit_matrix;\n",
    "  for (i in 1:D){\n",
    "    Y[i] ~ multi_normal(tran_power[i] - 10 * gama * log10(tran_recv_distance[i]), bigSigma); \n",
    "  }\n",
    "   \n",
    "}"
   ]
  },
  {
   "cell_type": "code",
   "execution_count": 7,
   "metadata": {},
   "outputs": [
    {
     "name": "stdout",
     "output_type": "stream",
     "text": [
      "Model cached as:exponential_cov_no_error.pkl\n"
     ]
    }
   ],
   "source": [
    "StanModel_cache(exponential_cov_no_error, 'exponential_cov_no_error')"
   ]
  },
  {
   "cell_type": "code",
   "execution_count": null,
   "metadata": {},
   "outputs": [],
   "source": []
  }
 ],
 "metadata": {
  "kernelspec": {
   "display_name": "Python 3",
   "language": "python",
   "name": "python3"
  },
  "language_info": {
   "codemirror_mode": {
    "name": "ipython",
    "version": 3
   },
   "file_extension": ".py",
   "mimetype": "text/x-python",
   "name": "python",
   "nbconvert_exporter": "python",
   "pygments_lexer": "ipython3",
   "version": "3.7.6"
  }
 },
 "nbformat": 4,
 "nbformat_minor": 4
}
