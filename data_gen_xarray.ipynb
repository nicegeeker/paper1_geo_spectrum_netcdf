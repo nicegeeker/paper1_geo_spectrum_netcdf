{
 "cells": [
  {
   "cell_type": "code",
   "execution_count": 1,
   "metadata": {},
   "outputs": [],
   "source": [
    "import os\n",
    "import pickle\n",
    "\n",
    "import numpy as np\n",
    "import pandas as pd\n",
    "import arviz as az\n",
    "import xarray as xr\n",
    "\n",
    "import matplotlib.pyplot as plt\n",
    "import matplotlib as mpl\n",
    "%matplotlib inline\n",
    "\n",
    "import pystan\n",
    "%load_ext jupyterstan\n",
    "\n",
    "PROJECT_ROOT_DIR = \".\"\n",
    "IMAGES_PATH = os.path.join(PROJECT_ROOT_DIR, \"images\")\n",
    "STAN_MODEL_PATH = os.path.join(PROJECT_ROOT_DIR, \"stan_models\")"
   ]
  },
  {
   "cell_type": "markdown",
   "metadata": {},
   "source": [
    "## 几个有用的函数\n",
    "- save_fig:用于保存仿真的图片到文件\n",
    "\n",
    "- StanModel_cache: 保存编译好的Stan模型\n",
    "\n",
    "- StanModel_load: 载入保存的Stan模型\n"
   ]
  },
  {
   "cell_type": "code",
   "execution_count": 2,
   "metadata": {},
   "outputs": [],
   "source": [
    "def save_fig(fig_id, tight_layout=True, fig_extension=\"png\", resolution=300):\n",
    "    path = os.path.join(IMAGES_PATH, fig_id + \".\" + fig_extension)\n",
    "    print(\"Saving figure\", fig_id)\n",
    "    if tight_layout:\n",
    "        plt.tight_layout()\n",
    "    plt.savefig(path, format=fig_extension, dpi=resolution)\n",
    "    \n",
    "    \n",
    "# 将编译好的模型，存储成pickle，供直接使用\n",
    "def StanModel_cache(compiled_model, model_name, **kwargs):\n",
    "    path = os.path.join(STAN_MODEL_PATH, model_name + '.pkl')\n",
    "    with open(path,'wb') as f:\n",
    "        pickle.dump(compiled_model, f)\n",
    "    print(\"Model cached as:\" + model_name +'.pkl')\n",
    "    \n",
    "    \n",
    "def StanModel_load(model_name):\n",
    "    path = os.path.join(STAN_MODEL_PATH, model_name + '.pkl')\n",
    "    try:\n",
    "        sm = pickle.load(open(path, 'rb'))\n",
    "    except:\n",
    "        raise FileNotFoundError\n",
    "    else:\n",
    "        print(\"Using cached StanModel\")\n",
    "    return sm"
   ]
  },
  {
   "cell_type": "markdown",
   "metadata": {},
   "source": [
    "## 生成发射节点数据"
   ]
  },
  {
   "cell_type": "code",
   "execution_count": 3,
   "metadata": {},
   "outputs": [],
   "source": [
    "def gen_transmmition_data(i_group_num, i_random_seed,l_trans_power):\n",
    "    '''\n",
    "    该函数随机生成生成发送节点的x，y坐标值和发送功率\n",
    "    Parameters\n",
    "        ----------\n",
    "        group_num: int,数据的组数\n",
    "        random_seed: int,随机数种子\n",
    "        l_trans_power: iterable,功率值\n",
    "    Returns\n",
    "        ----------\n",
    "        transmmition_data: xarray格式  \n",
    "    '''\n",
    "    if (len(l_trans_power) != i_group_num):\n",
    "        raise ValueError(\"功率值列表长度应与数据组数一致\")\n",
    "\n",
    "    np.random.seed(i_random_seed)\n",
    "    trans_x = 0.5 + np.random.rand(i_group_num)*(499.5-0.5)\n",
    "    trans_y = -499.5 + np.random.rand(i_group_num)*(-0.5+499.5)\n",
    "    trans_power = np.array([i for i in l_trans_power])\n",
    "    data = np.stack((trans_x, trans_y, trans_power))\n",
    "    transmmition_data = xr.DataArray(data,\n",
    "                              dims=('var', 'group'),\n",
    "                              coords={'var':['x','y','power']}\n",
    "                             )\n",
    "    return transmmition_data\n",
    "\n",
    "\n",
    "def recv_power(xr_transmmiton_data, coord_x, coord_y, r_η):\n",
    "    '''\n",
    "    该函数根据transmmiton_data，节点坐标recv_x, recv_y, 自由空间传播损耗因子η，生成每个节点的接收功率\n",
    "    Parameters\n",
    "        ----------\n",
    "        xr_transmmion_data: xarray,发送节点数据,dims{var,group}\n",
    "        recv_x: np.meshgrid生成的x坐标\n",
    "        recv_y: np.meshgrid生成的y坐标\n",
    "        r_η: real,自由空间传播损耗\n",
    "    Returns\n",
    "        ----------\n",
    "        spectrum_data: xarray格式<xarray.DataArray (y: 500, x: 500, group: n)>    \n",
    "    '''\n",
    "    recv_x, recv_y = np.meshgrid(coord_x, coord_y)\n",
    "    groups = xr_transmmiton_data.sizes['group']\n",
    "    temp_array = np.zeros(shape=(len(recv_x), len(recv_y), groups))\n",
    "    for group_num in range(groups):\n",
    "        trans_x , trans_y, trans_power = xr_transmmiton_data.sel(group=group_num).values\n",
    "        recv_power = trans_power - 10 * r_η * np.log10( np.sqrt(np.square(recv_x-trans_x)\n",
    "               +np.square(recv_y-trans_y)) )\n",
    "        temp_array[:,:,group_num] = recv_power\n",
    "    \n",
    "    spectrum_data = xr.DataArray(temp_array,\n",
    "                             dims=('y', 'x', 'group'),\n",
    "                            coords={'x':coord_x , 'y':coord_y})\n",
    "        \n",
    "    return spectrum_data"
   ]
  },
  {
   "cell_type": "code",
   "execution_count": 4,
   "metadata": {},
   "outputs": [],
   "source": [
    "transmmition_data = gen_transmmition_data(20, 1234, [30, 50,40, 30, 40, 50, 30, 40, 50,30, 50,40, 30, 40, 50, 30, 40, 50,35,35])"
   ]
  },
  {
   "cell_type": "code",
   "execution_count": 5,
   "metadata": {},
   "outputs": [
    {
     "data": {
      "text/html": [
       "<pre>&lt;xarray.DataArray (var: 3, group: 20)&gt;\n",
       "array([[  96.06820574,  310.93227675,  218.92614176,  392.39393327,\n",
       "         389.70792825,  136.52371004,  138.45566332,  400.63421659,\n",
       "         478.61153749,  437.59038474,  179.05081771,  250.49656764,\n",
       "         341.54800465,  356.13831146,  185.25512664,  280.53689685,\n",
       "         251.53849949,    7.37045635,  386.14048418,  440.93795413],\n",
       "       [-317.42189403, -192.41730696, -461.88476042, -315.45682101,\n",
       "         -33.86308911, -174.46230653, -301.29591371, -105.92365867,\n",
       "        -341.39877504, -216.01877234,  -65.80543261, -281.84946148,\n",
       "         -99.2283266 , -427.76035457, -148.07377541, -147.91392721,\n",
       "        -390.32273927,  -37.99105332, -278.87176305,  -45.75133647],\n",
       "       [  30.        ,   50.        ,   40.        ,   30.        ,\n",
       "          40.        ,   50.        ,   30.        ,   40.        ,\n",
       "          50.        ,   30.        ,   50.        ,   40.        ,\n",
       "          30.        ,   40.        ,   50.        ,   30.        ,\n",
       "          40.        ,   50.        ,   35.        ,   35.        ]])\n",
       "Coordinates:\n",
       "  * var      (var) &lt;U5 &#x27;x&#x27; &#x27;y&#x27; &#x27;power&#x27;\n",
       "Dimensions without coordinates: group</pre>"
      ],
      "text/plain": [
       "<xarray.DataArray (var: 3, group: 20)>\n",
       "array([[  96.06820574,  310.93227675,  218.92614176,  392.39393327,\n",
       "         389.70792825,  136.52371004,  138.45566332,  400.63421659,\n",
       "         478.61153749,  437.59038474,  179.05081771,  250.49656764,\n",
       "         341.54800465,  356.13831146,  185.25512664,  280.53689685,\n",
       "         251.53849949,    7.37045635,  386.14048418,  440.93795413],\n",
       "       [-317.42189403, -192.41730696, -461.88476042, -315.45682101,\n",
       "         -33.86308911, -174.46230653, -301.29591371, -105.92365867,\n",
       "        -341.39877504, -216.01877234,  -65.80543261, -281.84946148,\n",
       "         -99.2283266 , -427.76035457, -148.07377541, -147.91392721,\n",
       "        -390.32273927,  -37.99105332, -278.87176305,  -45.75133647],\n",
       "       [  30.        ,   50.        ,   40.        ,   30.        ,\n",
       "          40.        ,   50.        ,   30.        ,   40.        ,\n",
       "          50.        ,   30.        ,   50.        ,   40.        ,\n",
       "          30.        ,   40.        ,   50.        ,   30.        ,\n",
       "          40.        ,   50.        ,   35.        ,   35.        ]])\n",
       "Coordinates:\n",
       "  * var      (var) <U5 'x' 'y' 'power'\n",
       "Dimensions without coordinates: group"
      ]
     },
     "execution_count": 5,
     "metadata": {},
     "output_type": "execute_result"
    }
   ],
   "source": [
    "transmmition_data"
   ]
  },
  {
   "cell_type": "markdown",
   "metadata": {},
   "source": [
    "## 生成每个节点的接收功率\n",
    "根据发送节点数据，生成同样组数的各个接收节点的功率"
   ]
  },
  {
   "cell_type": "code",
   "execution_count": 5,
   "metadata": {},
   "outputs": [],
   "source": [
    "coord_x = np.arange(0.5, 500, 1)\n",
    "coord_y = np.arange(-499.5, 0, 1)"
   ]
  },
  {
   "cell_type": "code",
   "execution_count": 6,
   "metadata": {},
   "outputs": [],
   "source": [
    "free_loss_data = recv_power(transmmition_data, coord_x, coord_y, 3.5)"
   ]
  },
  {
   "cell_type": "markdown",
   "metadata": {},
   "source": [
    "## 加入阴影衰落的影响"
   ]
  },
  {
   "cell_type": "code",
   "execution_count": 7,
   "metadata": {},
   "outputs": [],
   "source": [
    "rf=xr.open_dataset('rf_200_8.nc')\n",
    "rf = rf['__xarray_dataarray_variable__']"
   ]
  },
  {
   "cell_type": "code",
   "execution_count": 8,
   "metadata": {},
   "outputs": [],
   "source": [
    "def add_shadow_fading(xr_spectrum_data, xr_random_field):\n",
    "    for i in range(xr_spectrum_data.sizes['group']):    \n",
    "        xr_spectrum_data[dict(group=i)]-= xr_random_field[dict(band=0)]\n",
    "    return xr_spectrum_data"
   ]
  },
  {
   "cell_type": "code",
   "execution_count": 9,
   "metadata": {},
   "outputs": [],
   "source": [
    "shadow_loss_data = add_shadow_fading(free_loss_data, rf)"
   ]
  },
  {
   "cell_type": "code",
   "execution_count": 27,
   "metadata": {},
   "outputs": [],
   "source": [
    "shadow_loss_data.to_netcdf('shadow_loss_data.nc')"
   ]
  },
  {
   "cell_type": "markdown",
   "metadata": {},
   "source": [
    "## 从中抽取100点模拟感知信号"
   ]
  },
  {
   "cell_type": "code",
   "execution_count": 10,
   "metadata": {},
   "outputs": [],
   "source": [
    "x_ = np.arange(24.5, 500, 50)\n",
    "y_ = np.arange(-474.5, 0, 50)"
   ]
  },
  {
   "cell_type": "code",
   "execution_count": 11,
   "metadata": {},
   "outputs": [],
   "source": [
    "sensor_data = shadow_loss_data.loc[dict(x=x_,y=y_)]"
   ]
  },
  {
   "cell_type": "code",
   "execution_count": 12,
   "metadata": {},
   "outputs": [
    {
     "data": {
      "text/plain": [
       "<xarray.plot.facetgrid.FacetGrid at 0x7f3ddd0b4910>"
      ]
     },
     "execution_count": 12,
     "metadata": {},
     "output_type": "execute_result"
    },
    {
     "data": {
      "image/png": "[encoded data removed]",
      "text/plain": [
       "<Figure size 4392x216 with 21 Axes>"
      ]
     },
     "metadata": {
      "needs_background": "light"
     },
     "output_type": "display_data"
    }
   ],
   "source": [
    "sensor_data.plot.imshow(col='group')"
   ]
  },
  {
   "cell_type": "code",
   "execution_count": 14,
   "metadata": {},
   "outputs": [],
   "source": [
    "def add_sensor_error(xr_sensor_data, error):\n",
    "    for i in range(xr_sensor_data.sizes['group']):    \n",
    "        xr_sensor_data[dict(group=i)]+= np.random.randn(10,10)\n",
    "    return xr_sensor_data"
   ]
  },
  {
   "cell_type": "code",
   "execution_count": 15,
   "metadata": {},
   "outputs": [],
   "source": [
    "sensor_data_with_error = add_sensor_error(sensor_data, sensor_error)"
   ]
  },
  {
   "cell_type": "code",
   "execution_count": 16,
   "metadata": {},
   "outputs": [
    {
     "data": {
      "text/plain": [
       "<xarray.plot.facetgrid.FacetGrid at 0x7f3dd7ed63d0>"
      ]
     },
     "execution_count": 16,
     "metadata": {},
     "output_type": "execute_result"
    },
    {
     "data": {
      "image/png": "[encoded data removed]",
      "text/plain": [
       "<Figure size 4392x216 with 21 Axes>"
      ]
     },
     "metadata": {
      "needs_background": "light"
     },
     "output_type": "display_data"
    }
   ],
   "source": [
    "sensor_data_with_error.plot.imshow(col='group')"
   ]
  },
  {
   "cell_type": "code",
   "execution_count": null,
   "metadata": {},
   "outputs": [],
   "source": []
  },
  {
   "cell_type": "markdown",
   "metadata": {},
   "source": [
    "## 随机抽取"
   ]
  },
  {
   "cell_type": "code",
   "execution_count": 22,
   "metadata": {},
   "outputs": [],
   "source": [
    "coord_x = np.arange(0.5, 500, 1)\n",
    "coord_y = np.arange(-499.5, 0, 1)"
   ]
  },
  {
   "cell_type": "code",
   "execution_count": null,
   "metadata": {},
   "outputs": [],
   "source": []
  },
  {
   "cell_type": "markdown",
   "metadata": {},
   "source": [
    "## 生成stan数据"
   ]
  },
  {
   "cell_type": "code",
   "execution_count": 18,
   "metadata": {},
   "outputs": [],
   "source": [
    "def stan_data_gen(xr_transmmition_data, xr_sensor_data):\n",
    "    stan_data = {}\n",
    "    stan_data['D'] = xr_transmmition_data.sizes['group']\n",
    "    stan_data['N'] = xr_sensor_data.size//xr_sensor_data.sizes['group']\n",
    "    tempx, tempy = np.meshgrid(xr_sensor_data.x.values, xr_sensor_data.y.values) \n",
    "    stan_data['recv_x'] = list(tempx.flat)\n",
    "    stan_data['recv_y'] = list(tempy.flat)\n",
    "    \n",
    "    stan_data['tran_power'] = list(xr_transmmition_data.sel(var='power').values)\n",
    "    stan_data['tran_x'] = list(xr_transmmition_data.sel(var='x').values)\n",
    "    stan_data['tran_y'] = list(xr_transmmition_data.sel(var='y').values)\n",
    "    \n",
    "    stan_data['tran_recv_distance'] = []\n",
    "    stan_data['Y'] = []\n",
    "    \n",
    "    for group_num in range(xr_sensor_data.sizes['group']):\n",
    "        trans_x , trans_y, _ = xr_transmmition_data.sel(group=group_num).values\n",
    "        distances = np.sqrt(np.square( tempx - trans_x) + np.square(tempy-trans_y))\n",
    "        \n",
    "        stan_data['tran_recv_distance'].append(list(distances.flat))\n",
    "        stan_data['Y'].append(list(xr_sensor_data.sel(group=group_num).values.flat))\n",
    "        \n",
    "    return stan_data"
   ]
  },
  {
   "cell_type": "code",
   "execution_count": 19,
   "metadata": {},
   "outputs": [],
   "source": [
    "stan_data = stan_data_gen(transmmition_data, sensor_data_with_error)"
   ]
  },
  {
   "cell_type": "markdown",
   "metadata": {},
   "source": [
    "## 用pystan进行仿真"
   ]
  },
  {
   "cell_type": "code",
   "execution_count": null,
   "metadata": {},
   "outputs": [],
   "source": [
    "%%stan prior_model\n",
    "functions {\n",
    "  matrix cov_exponential(matrix distance_between, real sigma, real fai) {\n",
    "    int N=rows(distance_between);\n",
    "    matrix[N, N] cov;\n",
    "    for (i in 1:N){\n",
    "      for (j in 1:N){\n",
    "        if (i==j)\n",
    "          cov[i, j] = 1;\n",
    "        else\n",
    "          cov[i,j] = square(sigma) * exp(-1*fai*distance_between[i,j]);\n",
    "      }\n",
    "    }    \n",
    "    return cov;\n",
    "  }\n",
    "}\n",
    "\n",
    "data {\n",
    "  int<lower=1> D; //数据组数\n",
    "  int<lower=1> N; //感知节点个数\n",
    "  vector[N] recv_x;// 每组数据有N个感知节点\n",
    "  vector[N] recv_y;// \n",
    "  real tran_power[D]; //信号源发送功率\n",
    "  real tran_x[D]; //信号源坐标\n",
    "  real tran_y[D];\n",
    "  vector[N] tran_recv_distance[D]; \n",
    "}\n",
    "\n",
    "transformed data {\n",
    "  matrix[N, N] distance_between_recv;\n",
    "  for (i in 1:N){\n",
    "    for (j in 1:N){\n",
    "      distance_between_recv[i,j] = sqrt((recv_x[i]-recv_x[j])^2 + (recv_y[i]-recv_y[j])^2);\n",
    "    }\n",
    "  }\n",
    "}\n",
    "\n",
    "generated quantities {\n",
    "  real gama; // 自由空间传播损耗因子\n",
    "  real fai;  // matern 协方差函数的距离 参数\n",
    "  real sigma; // 空间方差  \n",
    "  real sigma_eta; // 测量误差\n",
    "  //vector[N] Y[D];\n",
    "\n",
    "  matrix[N,N] bigSigma;\n",
    "  vector[N] i_vec = rep_vector(1.0, N);\n",
    "  matrix[N, N] unit_matrix = diag_matrix(i_vec);\n",
    "  \n",
    "  /********************/\n",
    "  /*    指定先验分布    */\n",
    "  /********************/\n",
    "  gama = uniform_rng(1,10);\n",
    "  fai = normal_rng(20, 100);\n",
    "  sigma = inv_gamma_rng(2, 10);\n",
    "  sigma_eta = inv_gamma_rng(2, 10);\n",
    " \n",
    "  \n",
    "  \n",
    "  //bigSigma = cov_exponential(distance_between_recv, sigma, fai) + square(sigma_eta)*unit_matrix;\n",
    "  //for (i in 1:D) {\n",
    "  //  Y[i] = multi_normal_rng(tran_power[i] - 10 * gama * log10(tran_recv_distance[i]), bigSigma); \n",
    " // }\n",
    "}\n"
   ]
  },
  {
   "cell_type": "code",
   "execution_count": null,
   "metadata": {},
   "outputs": [],
   "source": [
    "stan_data.pop('Y')"
   ]
  },
  {
   "cell_type": "code",
   "execution_count": null,
   "metadata": {},
   "outputs": [],
   "source": [
    "fit_prior = porior.sampling(data=stan_data,iter=10000, chains=1, algorithm='Fixed_param', warmup=0)"
   ]
  },
  {
   "cell_type": "code",
   "execution_count": null,
   "metadata": {},
   "outputs": [],
   "source": [
    "az_f = az.from_pystan(prior=fit_prior)"
   ]
  },
  {
   "cell_type": "code",
   "execution_count": null,
   "metadata": {},
   "outputs": [],
   "source": [
    "az_f.prior.sigma.plot.hist()"
   ]
  },
  {
   "cell_type": "code",
   "execution_count": null,
   "metadata": {},
   "outputs": [],
   "source": []
  },
  {
   "cell_type": "markdown",
   "metadata": {
    "heading_collapsed": true
   },
   "source": [
    "#### exponential相关函数模型"
   ]
  },
  {
   "cell_type": "code",
   "execution_count": null,
   "metadata": {
    "hidden": true
   },
   "outputs": [],
   "source": [
    "%%stan exponential_cov\n",
    "functions {\n",
    "  matrix cov_exponential(matrix distance_between, real sigma, real fai) {\n",
    "    int N=rows(distance_between);\n",
    "    matrix[N, N] cov;\n",
    "    for (i in 1:N){\n",
    "      for (j in 1:N){\n",
    "        if (i==j)\n",
    "          cov[i, j] = 1;\n",
    "        else\n",
    "          cov[i,j] = square(sigma) * exp(-1*fai*distance_between[i,j]);\n",
    "      }\n",
    "    }\n",
    "    \n",
    "    return cov;\n",
    "  }\n",
    "}\n",
    "\n",
    "data {\n",
    "  int<lower=1> D; //数据组数\n",
    "  int<lower=1> N; //感知节点个数\n",
    "  vector[N] recv_x;// 每组数据有N个感知节点\n",
    "  vector[N] recv_y;// \n",
    "  real tran_power[D]; //信号源发送功率\n",
    "  real tran_x[D]; //信号源坐标\n",
    "  real tran_y[D];\n",
    "  vector[N] tran_recv_distance[D];\n",
    "  vector[N] Y[D];\n",
    " \n",
    "}\n",
    "\n",
    "transformed data {\n",
    "  matrix[N, N] distance_between_recv;\n",
    "  for (i in 1:N){\n",
    "    for (j in 1:N){\n",
    "      distance_between_recv[i,j] = sqrt((recv_x[i]-recv_x[j])^2 + (recv_y[i]-recv_y[j])^2);\n",
    "    }\n",
    "  }\n",
    "}\n",
    "\n",
    "parameters {\n",
    "  real gama; // 自由空间传播损耗因子\n",
    "  real fai;  // matern 协方差函数的距离 参数\n",
    "  real sigma; // 空间方差  \n",
    "  real sigma_eta; // 测量误差\n",
    "}\n",
    "transformed parameters {\n",
    "\n",
    "}\n",
    "\n",
    "model {\n",
    "  matrix[N,N] bigSigma;\n",
    "  vector[N] i_vec = rep_vector(1.0, N);\n",
    "  matrix[N, N] unit_matrix = diag_matrix(i_vec);\n",
    "  \n",
    "  /********************/\n",
    "  /*    指定先验分布    */\n",
    "  /********************/\n",
    "  gama ~ uniform(1,10);\n",
    "  fai ~ normal(20, 100);\n",
    "  sigma ~ inv_gamma(2, 10);\n",
    "  sigma_eta ~ inv_gamma(2, 10);\n",
    " \n",
    "  \n",
    "  \n",
    "  bigSigma = cov_exponential(distance_between_recv, sigma, fai) + square(sigma_eta)*unit_matrix;\n",
    "  for (i in 1:D){\n",
    "    Y[i] ~ multi_normal(tran_power[i] - 10 * gama * log10(tran_recv_distance[i]), bigSigma); \n",
    "  }\n",
    "   \n",
    "}"
   ]
  },
  {
   "cell_type": "markdown",
   "metadata": {},
   "source": [
    "#### exp模型，sigma_eta 先验改变"
   ]
  },
  {
   "cell_type": "code",
   "execution_count": null,
   "metadata": {},
   "outputs": [],
   "source": [
    "%%stan exponential_cov\n",
    "functions {\n",
    "  matrix cov_exponential(matrix distance_between, real sigma, real fai) {\n",
    "    int N=rows(distance_between);\n",
    "    matrix[N, N] cov;\n",
    "    for (i in 1:N){\n",
    "      for (j in 1:N){\n",
    "        if (i==j)\n",
    "          cov[i, j] = 1;\n",
    "        else\n",
    "          cov[i,j] = square(sigma) * exp(-1*fai*distance_between[i,j]);\n",
    "      }\n",
    "    }\n",
    "    \n",
    "    return cov;\n",
    "  }\n",
    "}\n",
    "\n",
    "data {\n",
    "  int<lower=1> D; //数据组数\n",
    "  int<lower=1> N; //感知节点个数\n",
    "  vector[N] recv_x;// 每组数据有N个感知节点\n",
    "  vector[N] recv_y;// \n",
    "  real tran_power[D]; //信号源发送功率\n",
    "  real tran_x[D]; //信号源坐标\n",
    "  real tran_y[D];\n",
    "  vector[N] tran_recv_distance[D];\n",
    "  vector[N] Y[D];\n",
    " \n",
    "}\n",
    "\n",
    "transformed data {\n",
    "  matrix[N, N] distance_between_recv;\n",
    "  for (i in 1:N){\n",
    "    for (j in 1:N){\n",
    "      distance_between_recv[i,j] = sqrt((recv_x[i]-recv_x[j])^2 + (recv_y[i]-recv_y[j])^2);\n",
    "    }\n",
    "  }\n",
    "}\n",
    "\n",
    "parameters {\n",
    "  real gama; // 自由空间传播损耗因子\n",
    "  real fai;  // matern 协方差函数的距离 参数\n",
    "  real sigma; // 空间方差  \n",
    "  real sigma_eta; // 测量误差\n",
    "}\n",
    "transformed parameters {\n",
    "\n",
    "}\n",
    "\n",
    "model {\n",
    "  matrix[N,N] bigSigma;\n",
    "  vector[N] i_vec = rep_vector(1.0, N);\n",
    "  matrix[N, N] unit_matrix = diag_matrix(i_vec);\n",
    "  \n",
    "  /********************/\n",
    "  /*    指定先验分布    */\n",
    "  /********************/\n",
    "  gama ~ uniform(1,10);\n",
    "  fai ~ normal(20, 100);\n",
    "  sigma ~ inv_gamma(2, 10);\n",
    "  sigma_eta ~ inv_gamma(2, 1);\n",
    " \n",
    "  \n",
    "  \n",
    "  bigSigma = cov_exponential(distance_between_recv, sigma, fai) + square(sigma_eta)*unit_matrix;\n",
    "  for (i in 1:D){\n",
    "    Y[i] ~ multi_normal(tran_power[i] - 10 * gama * log10(tran_recv_distance[i]), bigSigma); \n",
    "  }\n",
    "   \n",
    "}"
   ]
  },
  {
   "cell_type": "code",
   "execution_count": 20,
   "metadata": {},
   "outputs": [
    {
     "name": "stderr",
     "output_type": "stream",
     "text": [
      "INFO:pystan:COMPILING THE C++ CODE FOR MODEL expo_1593669845d11594b3567e375de3f771 NOW.\n"
     ]
    },
    {
     "name": "stdout",
     "output_type": "stream",
     "text": [
      "Creating pystan model & assigning it to variable name \"expo\".\n",
      "Stan options:\n",
      " {'model_name': 'expo', 'include_paths': None, 'boost_lib': None, 'eigen_lib': None, 'verbose': False, 'obfuscate_model_name': True}\n",
      "StanModel now available as variable \"expo\"!\n",
      "Compilation took a minute.\n"
     ]
    }
   ],
   "source": [
    "%%stan expo\n",
    "functions {\n",
    "  matrix cov_exponential(matrix distance_between, real sigma, real fai) {\n",
    "    int N=rows(distance_between);\n",
    "    matrix[N, N] cov;\n",
    "    for (i in 1:N){\n",
    "      for (j in 1:N){\n",
    "        if (i==j)\n",
    "          cov[i, j] = 1;\n",
    "        else\n",
    "          cov[i,j] = square(sigma) * exp(-1*fai*distance_between[i,j]);\n",
    "      }\n",
    "    }\n",
    "    \n",
    "    return cov;\n",
    "  }\n",
    "}\n",
    "\n",
    "data {\n",
    "  int<lower=1> D; //数据组数\n",
    "  int<lower=1> N; //感知节点个数\n",
    "  vector[N] recv_x;// 每组数据有N个感知节点\n",
    "  vector[N] recv_y;// \n",
    "  real tran_power[D]; //信号源发送功率\n",
    "  real tran_x[D]; //信号源坐标\n",
    "  real tran_y[D];\n",
    "  vector[N] tran_recv_distance[D];\n",
    "  vector[N] Y[D];\n",
    " \n",
    "}\n",
    "\n",
    "transformed data {\n",
    "  matrix[N, N] distance_between_recv;\n",
    "  for (i in 1:N){\n",
    "    for (j in 1:N){\n",
    "      distance_between_recv[i,j] = sqrt((recv_x[i]-recv_x[j])^2 + (recv_y[i]-recv_y[j])^2);\n",
    "    }\n",
    "  }\n",
    "}\n",
    "\n",
    "parameters {\n",
    "  real gama; // 自由空间传播损耗因子\n",
    "  real fai;  // matern 协方差函数的距离 参数\n",
    "  real sigma; // 空间方差  \n",
    " // real sigma_eta; // 测量误差\n",
    "}\n",
    "transformed parameters {\n",
    "\n",
    "}\n",
    "\n",
    "model {\n",
    "  matrix[N,N] bigSigma;\n",
    "  vector[N] i_vec = rep_vector(1.0, N);\n",
    "  matrix[N, N] unit_matrix = diag_matrix(i_vec);\n",
    "  \n",
    "  /********************/\n",
    "  /*    指定先验分布    */\n",
    "  /********************/\n",
    "  gama ~ uniform(1,10);\n",
    "  fai ~ normal(20, 100);\n",
    "  sigma ~ inv_gamma(2, 10);\n",
    "  //sigma_eta ~ inv_gamma(2, 1);\n",
    " \n",
    "  \n",
    "  \n",
    "  bigSigma = cov_exponential(distance_between_recv, sigma, fai); //+ square(sigma_eta)*unit_matrix;\n",
    "  for (i in 1:D){\n",
    "    Y[i] ~ multi_normal(tran_power[i] - 10 * gama * log10(tran_recv_distance[i]), bigSigma); \n",
    "  }\n",
    "   \n",
    "}"
   ]
  },
  {
   "cell_type": "code",
   "execution_count": null,
   "metadata": {},
   "outputs": [],
   "source": []
  },
  {
   "cell_type": "code",
   "execution_count": 21,
   "metadata": {},
   "outputs": [
    {
     "name": "stderr",
     "output_type": "stream",
     "text": [
      "WARNING:pystan:2333 of 5000 iterations ended with a divergence (46.7 %).\n",
      "WARNING:pystan:Try running with adapt_delta larger than 0.8 to remove the divergences.\n"
     ]
    }
   ],
   "source": [
    "fit_exp = expo.sampling(data=stan_data, iter=10000, chains=1)"
   ]
  },
  {
   "cell_type": "code",
   "execution_count": 24,
   "metadata": {},
   "outputs": [
    {
     "name": "stderr",
     "output_type": "stream",
     "text": [
      "/opt/conda/lib/python3.7/site-packages/arviz/plots/backends/matplotlib/distplot.py:38: UserWarning: Argument backend_kwargs has not effect in matplotlib.plot_distSupplied value won't be used\n",
      "  \"Argument backend_kwargs has not effect in matplotlib.plot_dist\"\n",
      "/opt/conda/lib/python3.7/site-packages/arviz/plots/backends/matplotlib/distplot.py:38: UserWarning: Argument backend_kwargs has not effect in matplotlib.plot_distSupplied value won't be used\n",
      "  \"Argument backend_kwargs has not effect in matplotlib.plot_dist\"\n",
      "/opt/conda/lib/python3.7/site-packages/arviz/plots/backends/matplotlib/distplot.py:38: UserWarning: Argument backend_kwargs has not effect in matplotlib.plot_distSupplied value won't be used\n",
      "  \"Argument backend_kwargs has not effect in matplotlib.plot_dist\"\n"
     ]
    },
    {
     "data": {
      "text/plain": [
       "array([[<matplotlib.axes._subplots.AxesSubplot object at 0x7f3dd3029e10>,\n",
       "        <matplotlib.axes._subplots.AxesSubplot object at 0x7f3dd2f81c10>],\n",
       "       [<matplotlib.axes._subplots.AxesSubplot object at 0x7f3dd2fb8510>,\n",
       "        <matplotlib.axes._subplots.AxesSubplot object at 0x7f3dd2f6fe90>],\n",
       "       [<matplotlib.axes._subplots.AxesSubplot object at 0x7f3dd6550490>,\n",
       "        <matplotlib.axes._subplots.AxesSubplot object at 0x7f3dd63ab790>]],\n",
       "      dtype=object)"
      ]
     },
     "execution_count": 24,
     "metadata": {},
     "output_type": "execute_result"
    },
    {
     "data": {
      "image/png": "[encoded data removed]",
      "text/plain": [
       "<Figure size 864x432 with 6 Axes>"
      ]
     },
     "metadata": {
      "needs_background": "light"
     },
     "output_type": "display_data"
    }
   ],
   "source": [
    "az.plot_trace(fit_exp)"
   ]
  },
  {
   "cell_type": "code",
   "execution_count": null,
   "metadata": {},
   "outputs": [],
   "source": [
    "from scipy.stats import invgamma\n",
    "import matplotlib.pyplot as plt\n",
    "fig, ax = plt.subplots(1, 1)\n",
    "a=2\n",
    "x = np.linspace(invgamma.ppf(0.01, a, scale=1), invgamma.ppf(0.99, a,scale=1), 100)\n",
    "ax.plot(x, invgamma.pdf(x, a,scale=1),'r-', lw=5, alpha=0.6, label='invgamma pdf')2"
   ]
  },
  {
   "cell_type": "code",
   "execution_count": null,
   "metadata": {},
   "outputs": [],
   "source": [
    "invgamma.ppf?"
   ]
  },
  {
   "cell_type": "code",
   "execution_count": null,
   "metadata": {},
   "outputs": [],
   "source": [
    "code_hash = md5(exponential_cov.model_code.encode('utf-8')).hexdigest()\n",
    "code_hash"
   ]
  },
  {
   "cell_type": "code",
   "execution_count": null,
   "metadata": {},
   "outputs": [],
   "source": [
    "exponential_cov."
   ]
  },
  {
   "cell_type": "code",
   "execution_count": null,
   "metadata": {},
   "outputs": [],
   "source": [
    "ex"
   ]
  }
 ],
 "metadata": {
  "kernelspec": {
   "display_name": "Python 3",
   "language": "python",
   "name": "python3"
  },
  "language_info": {
   "codemirror_mode": {
    "name": "ipython",
    "version": 3
   },
   "file_extension": ".py",
   "mimetype": "text/x-python",
   "name": "python",
   "nbconvert_exporter": "python",
   "pygments_lexer": "ipython3",
   "version": "3.7.6"
  }
 },
 "nbformat": 4,
 "nbformat_minor": 4
}
