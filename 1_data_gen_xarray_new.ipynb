{
 "cells": [
  {
   "cell_type": "code",
   "execution_count": 1,
   "metadata": {},
   "outputs": [],
   "source": [
    "import os\n",
    "import pickle\n",
    "\n",
    "import numpy as np\n",
    "import pandas as pd\n",
    "import arviz as az\n",
    "import xarray as xr\n",
    "\n",
    "import matplotlib.pyplot as plt\n",
    "import matplotlib as mpl\n",
    "%matplotlib inline\n",
    "\n",
    "import pystan\n",
    "%load_ext jupyterstan\n",
    "\n",
    "PROJECT_ROOT_DIR = \".\"\n",
    "IMAGES_PATH = os.path.join(PROJECT_ROOT_DIR, \"images\")\n",
    "STAN_MODEL_PATH = os.path.join(PROJECT_ROOT_DIR, \"stan_models\")\n",
    "STAN_DATA_PATH = os.path.join(PROJECT_ROOT_DIR,'data')"
   ]
  },
  {
   "cell_type": "markdown",
   "metadata": {},
   "source": [
    "## 几个有用的函数\n",
    "- save_fig:用于保存仿真的图片到文件\n",
    "\n",
    "- StanModel_cache: 保存编译好的Stan模型\n",
    "\n",
    "- StanModel_load: 载入保存的Stan模型"
   ]
  },
  {
   "cell_type": "code",
   "execution_count": 2,
   "metadata": {},
   "outputs": [],
   "source": [
    "def save_fig(fig_id, tight_layout=True, fig_extension=\"png\", resolution=300):\n",
    "    path = os.path.join(IMAGES_PATH, fig_id + \".\" + fig_extension)\n",
    "    print(\"Saving figure\", fig_id)\n",
    "    if tight_layout:\n",
    "        plt.tight_layout()\n",
    "    plt.savefig(path, format=fig_extension, dpi=resolution)\n",
    "    \n",
    "\n",
    "# 将编译好的模型，存储成pickle，供直接使用\n",
    "def StanData_cache(var, data_name, **kwargs):\n",
    "    path = os.path.join(STAN_DATA_PATH, data_name + '.pkl')\n",
    "    with open(path,'wb') as f:\n",
    "        pickle.dump(var, f)\n",
    "    print(\"DATA cached as:\" + data_name +'.pkl')\n",
    "    \n",
    "    \n",
    "def StanData_load(data_name):\n",
    "    path = os.path.join(STAN_DATA_PATH, data_name + '.pkl')\n",
    "    try:\n",
    "        sm = pickle.load(open(path, 'rb'))\n",
    "    except:\n",
    "        raise FileNotFoundError\n",
    "    else:\n",
    "        print(\"Using cached StanDATA: \" + data_name)\n",
    "    return sm\n",
    "\n",
    "# 将编译好的模型，存储成pickle，供直接使用\n",
    "def StanModel_cache(compiled_model, model_name, **kwargs):\n",
    "    path = os.path.join(STAN_MODEL_PATH, model_name + '.pkl')\n",
    "    with open(path,'wb') as f:\n",
    "        pickle.dump(compiled_model, f)\n",
    "    print(\"Model cached as:\" + model_name +'.pkl')\n",
    "    \n",
    "    \n",
    "def StanModel_load(model_name):\n",
    "    path = os.path.join(STAN_MODEL_PATH, model_name + '.pkl')\n",
    "    try:\n",
    "        sm = pickle.load(open(path, 'rb'))\n",
    "    except:\n",
    "        raise FileNotFoundError\n",
    "    else:\n",
    "        print(\"Using cached StanModel\")\n",
    "    return sm"
   ]
  },
  {
   "cell_type": "markdown",
   "metadata": {},
   "source": [
    "## 数据生成"
   ]
  },
  {
   "cell_type": "markdown",
   "metadata": {},
   "source": [
    "### 函数定义"
   ]
  },
  {
   "cell_type": "code",
   "execution_count": 5,
   "metadata": {},
   "outputs": [],
   "source": [
    "def gen_transmmition_data(i_group_num, i_random_seed,l_trans_power):\n",
    "    '''\n",
    "    该函数随机生成生成发送节点的x，y坐标值和发送功率\n",
    "    Parameters\n",
    "        ----------\n",
    "        group_num: int,数据的组数\n",
    "        random_seed: int,随机数种子\n",
    "        l_trans_power: iterable,功率值\n",
    "    Returns\n",
    "        ----------\n",
    "        transmmition_data: xarray格式  \n",
    "    '''\n",
    "    if (len(l_trans_power) != i_group_num):\n",
    "        raise ValueError(\"功率值列表长度应与数据组数一致\")\n",
    "\n",
    "    np.random.seed(i_random_seed)\n",
    "    trans_x = 0.5 + np.random.rand(i_group_num)*(499.5-0.5)\n",
    "    trans_y = -499.5 + np.random.rand(i_group_num)*(-0.5+499.5)\n",
    "    trans_power = np.array([i for i in l_trans_power])\n",
    "    data = np.stack((trans_x, trans_y, trans_power))\n",
    "    transmmition_data = xr.DataArray(data,\n",
    "                              dims=('var', 'group'),\n",
    "                              coords={'var':['x','y','power']}\n",
    "                             )\n",
    "    return transmmition_data\n",
    "\n",
    "\n",
    "def recv_power(xr_transmmiton_data, coord_x, coord_y, r_η):\n",
    "    '''\n",
    "    该函数根据transmmiton_data，节点坐标recv_x, recv_y, 自由空间传播损耗因子η，生成每个节点的接收功率\n",
    "    Parameters\n",
    "        ----------\n",
    "        xr_transmmion_data: xarray,发送节点数据,dims{var,group}\n",
    "        recv_x: np.meshgrid生成的x坐标\n",
    "        recv_y: np.meshgrid生成的y坐标\n",
    "        r_η: real,自由空间传播损耗\n",
    "    Returns\n",
    "        ----------\n",
    "        spectrum_data: xarray格式<xarray.DataArray (y: 500, x: 500, group: n)>    \n",
    "    '''\n",
    "    recv_x, recv_y = np.meshgrid(coord_x, coord_y)\n",
    "    groups = xr_transmmiton_data.sizes['group']\n",
    "    temp_array = np.zeros(shape=(len(recv_x), len(recv_y), groups))\n",
    "    for group_num in range(groups):\n",
    "        trans_x , trans_y, trans_power = xr_transmmiton_data.sel(group=group_num).values\n",
    "        recv_power = trans_power - 10 * r_η * np.log10( np.sqrt(np.square(recv_x-trans_x)\n",
    "               +np.square(recv_y-trans_y)) )\n",
    "        temp_array[:,:,group_num] = recv_power\n",
    "    \n",
    "    spectrum_data = xr.DataArray(temp_array,\n",
    "                             dims=('y', 'x', 'group'),\n",
    "                            coords={'x':coord_x , 'y':coord_y})\n",
    "        \n",
    "    return spectrum_data\n"
   ]
  },
  {
   "cell_type": "markdown",
   "metadata": {},
   "source": [
    "### 生成过程"
   ]
  },
  {
   "cell_type": "code",
   "execution_count": 4,
   "metadata": {},
   "outputs": [],
   "source": [
    "# 生成发送数据\n",
    "transmmition_data = gen_transmmition_data(20, 1234, [30, 50,40, 30, 40, 50, 30, 40, 50,30, 50,40, 30, 40, 50, 30, 40, 50,35,35])\n",
    "\n",
    "# 生成只考虑自由空间传播损耗的数据\n",
    "coord_x = np.arange(0.5, 500, 1)\n",
    "coord_y = np.arange(-499.5, 0, 1)\n",
    "free_loss_data = recv_power(transmmition_data, coord_x, coord_y, 3.5)\n",
    "\n",
    "\n",
    "#添加阴影衰落效应的影响\n",
    "rf = xr.open_dataset('random_fields_20.nc')\n",
    "shadow_loss_data = free_loss_data + rf.shadow_loss"
   ]
  },
  {
   "cell_type": "code",
   "execution_count": 7,
   "metadata": {},
   "outputs": [],
   "source": [
    "# 生成发送数据\n",
    "transmmition_data_2 = gen_transmmition_data(100, 1234, 50* np.ones(100))\n",
    "\n",
    "# 生成只考虑自由空间传播损耗的数据\n",
    "coord_x = np.arange(0.5, 500, 1)\n",
    "coord_y = np.arange(-499.5, 0, 1)\n",
    "free_loss_data_2 = recv_power(transmmition_data_2, coord_x, coord_y, 3.5)\n",
    "\n",
    "\n",
    "#添加阴影衰落效应的影响\n",
    "rf2 = xr.open_dataset('random_fields_100.nc')\n",
    "shadow_loss_data_2 = free_loss_data_2 + rf2.shadow_loss"
   ]
  },
  {
   "cell_type": "code",
   "execution_count": 8,
   "metadata": {},
   "outputs": [
    {
     "data": {
      "text/html": [
       "<pre>&lt;xarray.DataArray (y: 500, x: 500, group: 100)&gt;\n",
       "array([[[-40.2585328 , -38.35115328, -51.63905768, ..., -33.76869851,\n",
       "         -48.95921027, -39.15455136],\n",
       "        [-55.51350983, -50.83589057, -49.38589914, ..., -51.63627869,\n",
       "         -32.44136341, -54.96214862],\n",
       "        [-34.32291075, -41.89322176, -54.89343621, ..., -47.97573342,\n",
       "         -37.49891183, -53.54383508],\n",
       "        ...,\n",
       "        [-47.42728737, -44.44448209, -49.20431508, ..., -12.08629756,\n",
       "         -44.52608825, -47.25970937],\n",
       "        [-41.24369076, -41.47127979, -59.72451319, ..., -29.51630259,\n",
       "         -53.49915886, -42.70301271],\n",
       "        [-41.25060852, -38.82209311, -51.58796733, ..., -17.03638919,\n",
       "         -40.93652586, -31.73797729]],\n",
       "\n",
       "       [[-43.13769125, -59.09839745, -44.91379469, ..., -41.02097431,\n",
       "         -40.60805411, -43.73763094],\n",
       "        [-55.44748023, -26.06455519, -43.79974299, ..., -31.39541702,\n",
       "         -37.35391083, -44.92915383],\n",
       "        [-62.87593331, -38.97421229, -55.60510358, ..., -33.39949385,\n",
       "         -54.3945335 , -41.93688277],\n",
       "        ...,\n",
       "        [-50.7551281 , -41.91146553, -54.57043916, ..., -23.48436386,\n",
       "         -39.82607139, -52.57533297],\n",
       "        [-30.98203635, -43.07749871, -40.07413342, ..., -28.70138604,\n",
       "         -59.62340924, -40.33913169],\n",
       "        [-51.61644784, -44.38370311, -42.10359356, ..., -14.32176444,\n",
       "         -53.89995073, -25.84889576]],\n",
       "\n",
       "       [[-35.9053425 , -42.38887672, -28.54175967, ..., -21.33180531,\n",
       "         -50.25331734, -48.95920831],\n",
       "        [-46.23650289, -39.61101623, -39.94276635, ..., -33.17759099,\n",
       "         -47.30764894, -44.17296826],\n",
       "        [-51.4077126 , -32.52473823, -48.16669348, ..., -46.34110037,\n",
       "         -55.73796699, -44.93120938],\n",
       "        ...,\n",
       "        [-52.25708553, -36.02111415, -37.79575547, ..., -21.74954608,\n",
       "         -37.18277703, -52.70201501],\n",
       "        [-53.08861035, -47.24798778, -47.33326209, ..., -23.62353378,\n",
       "         -53.44606127, -43.16701727],\n",
       "        [-34.05518368, -38.99163875, -45.93890767, ...,  -4.80553425,\n",
       "         -47.81539998, -38.18457805]],\n",
       "\n",
       "       ...,\n",
       "\n",
       "       [[-22.49096443, -34.51615104, -33.96762707, ..., -45.10541943,\n",
       "          -8.37746495, -16.1345276 ],\n",
       "        [-25.50798696, -49.11288158, -44.85367384, ..., -45.91347443,\n",
       "         -13.93939869, -41.83745133],\n",
       "        [-21.97802954, -30.9645948 , -40.61030092, ..., -53.51370546,\n",
       "         -34.67747173, -28.69367111],\n",
       "        ...,\n",
       "        [-34.40195457, -17.19791189, -30.99948933, ..., -52.07180665,\n",
       "         -52.66773456, -27.64677457],\n",
       "        [-36.8934966 , -35.7347325 , -41.07350642, ..., -46.07068212,\n",
       "         -45.73884545, -29.60589308],\n",
       "        [-44.54983059, -37.13053804, -30.74955185, ..., -46.48374359,\n",
       "         -59.15461184, -25.81320212]],\n",
       "\n",
       "       [[-16.92255246, -48.63763284, -45.5028463 , ..., -46.01520166,\n",
       "         -24.45063118, -22.46793234],\n",
       "        [-32.73086025, -40.71683954, -33.89760844, ..., -43.0913666 ,\n",
       "          -9.75722041, -31.74507071],\n",
       "        [-25.74437967, -43.17224973, -26.58304488, ..., -43.62954072,\n",
       "         -16.66462599, -29.37485951],\n",
       "        ...,\n",
       "        [-38.22083838, -40.44879246, -51.56304988, ..., -42.02665156,\n",
       "         -38.64345989, -24.40896517],\n",
       "        [-40.20383965, -35.56968691, -32.36564063, ..., -35.40786232,\n",
       "         -50.3542256 , -22.98732979],\n",
       "        [-27.09687061, -26.24125712, -41.73990694, ..., -50.27081794,\n",
       "         -54.42320393, -19.57045459]],\n",
       "\n",
       "       [[-19.56167673, -43.11422112, -34.27027963, ..., -55.42791296,\n",
       "         -27.69161608, -35.86587438],\n",
       "        [-18.86140195, -37.65480185, -29.63302788, ..., -51.49396927,\n",
       "         -20.91517421, -39.30305594],\n",
       "        [-11.57756515, -24.70930904, -51.55020359, ..., -48.20239216,\n",
       "         -15.41461248, -36.58103099],\n",
       "        ...,\n",
       "        [-49.99218188, -14.94256597, -50.70230677, ..., -46.02750554,\n",
       "         -44.16024932, -39.44826884],\n",
       "        [-41.13460745, -14.73744948, -24.3876985 , ..., -29.98066621,\n",
       "         -45.10078046, -36.5430683 ],\n",
       "        [-46.97027013, -29.68960981, -37.08884584, ..., -45.69933896,\n",
       "         -31.96985361, -34.47567557]]])\n",
       "Coordinates:\n",
       "  * group    (group) int64 0 1 2 3 4 5 6 7 8 9 ... 90 91 92 93 94 95 96 97 98 99\n",
       "  * x        (x) float64 0.5 1.5 2.5 3.5 4.5 ... 495.5 496.5 497.5 498.5 499.5\n",
       "  * y        (y) float64 -499.5 -498.5 -497.5 -496.5 ... -3.5 -2.5 -1.5 -0.5</pre>"
      ],
      "text/plain": [
       "<xarray.DataArray (y: 500, x: 500, group: 100)>\n",
       "array([[[-40.2585328 , -38.35115328, -51.63905768, ..., -33.76869851,\n",
       "         -48.95921027, -39.15455136],\n",
       "        [-55.51350983, -50.83589057, -49.38589914, ..., -51.63627869,\n",
       "         -32.44136341, -54.96214862],\n",
       "        [-34.32291075, -41.89322176, -54.89343621, ..., -47.97573342,\n",
       "         -37.49891183, -53.54383508],\n",
       "        ...,\n",
       "        [-47.42728737, -44.44448209, -49.20431508, ..., -12.08629756,\n",
       "         -44.52608825, -47.25970937],\n",
       "        [-41.24369076, -41.47127979, -59.72451319, ..., -29.51630259,\n",
       "         -53.49915886, -42.70301271],\n",
       "        [-41.25060852, -38.82209311, -51.58796733, ..., -17.03638919,\n",
       "         -40.93652586, -31.73797729]],\n",
       "\n",
       "       [[-43.13769125, -59.09839745, -44.91379469, ..., -41.02097431,\n",
       "         -40.60805411, -43.73763094],\n",
       "        [-55.44748023, -26.06455519, -43.79974299, ..., -31.39541702,\n",
       "         -37.35391083, -44.92915383],\n",
       "        [-62.87593331, -38.97421229, -55.60510358, ..., -33.39949385,\n",
       "         -54.3945335 , -41.93688277],\n",
       "        ...,\n",
       "        [-50.7551281 , -41.91146553, -54.57043916, ..., -23.48436386,\n",
       "         -39.82607139, -52.57533297],\n",
       "        [-30.98203635, -43.07749871, -40.07413342, ..., -28.70138604,\n",
       "         -59.62340924, -40.33913169],\n",
       "        [-51.61644784, -44.38370311, -42.10359356, ..., -14.32176444,\n",
       "         -53.89995073, -25.84889576]],\n",
       "\n",
       "       [[-35.9053425 , -42.38887672, -28.54175967, ..., -21.33180531,\n",
       "         -50.25331734, -48.95920831],\n",
       "        [-46.23650289, -39.61101623, -39.94276635, ..., -33.17759099,\n",
       "         -47.30764894, -44.17296826],\n",
       "        [-51.4077126 , -32.52473823, -48.16669348, ..., -46.34110037,\n",
       "         -55.73796699, -44.93120938],\n",
       "        ...,\n",
       "        [-52.25708553, -36.02111415, -37.79575547, ..., -21.74954608,\n",
       "         -37.18277703, -52.70201501],\n",
       "        [-53.08861035, -47.24798778, -47.33326209, ..., -23.62353378,\n",
       "         -53.44606127, -43.16701727],\n",
       "        [-34.05518368, -38.99163875, -45.93890767, ...,  -4.80553425,\n",
       "         -47.81539998, -38.18457805]],\n",
       "\n",
       "       ...,\n",
       "\n",
       "       [[-22.49096443, -34.51615104, -33.96762707, ..., -45.10541943,\n",
       "          -8.37746495, -16.1345276 ],\n",
       "        [-25.50798696, -49.11288158, -44.85367384, ..., -45.91347443,\n",
       "         -13.93939869, -41.83745133],\n",
       "        [-21.97802954, -30.9645948 , -40.61030092, ..., -53.51370546,\n",
       "         -34.67747173, -28.69367111],\n",
       "        ...,\n",
       "        [-34.40195457, -17.19791189, -30.99948933, ..., -52.07180665,\n",
       "         -52.66773456, -27.64677457],\n",
       "        [-36.8934966 , -35.7347325 , -41.07350642, ..., -46.07068212,\n",
       "         -45.73884545, -29.60589308],\n",
       "        [-44.54983059, -37.13053804, -30.74955185, ..., -46.48374359,\n",
       "         -59.15461184, -25.81320212]],\n",
       "\n",
       "       [[-16.92255246, -48.63763284, -45.5028463 , ..., -46.01520166,\n",
       "         -24.45063118, -22.46793234],\n",
       "        [-32.73086025, -40.71683954, -33.89760844, ..., -43.0913666 ,\n",
       "          -9.75722041, -31.74507071],\n",
       "        [-25.74437967, -43.17224973, -26.58304488, ..., -43.62954072,\n",
       "         -16.66462599, -29.37485951],\n",
       "        ...,\n",
       "        [-38.22083838, -40.44879246, -51.56304988, ..., -42.02665156,\n",
       "         -38.64345989, -24.40896517],\n",
       "        [-40.20383965, -35.56968691, -32.36564063, ..., -35.40786232,\n",
       "         -50.3542256 , -22.98732979],\n",
       "        [-27.09687061, -26.24125712, -41.73990694, ..., -50.27081794,\n",
       "         -54.42320393, -19.57045459]],\n",
       "\n",
       "       [[-19.56167673, -43.11422112, -34.27027963, ..., -55.42791296,\n",
       "         -27.69161608, -35.86587438],\n",
       "        [-18.86140195, -37.65480185, -29.63302788, ..., -51.49396927,\n",
       "         -20.91517421, -39.30305594],\n",
       "        [-11.57756515, -24.70930904, -51.55020359, ..., -48.20239216,\n",
       "         -15.41461248, -36.58103099],\n",
       "        ...,\n",
       "        [-49.99218188, -14.94256597, -50.70230677, ..., -46.02750554,\n",
       "         -44.16024932, -39.44826884],\n",
       "        [-41.13460745, -14.73744948, -24.3876985 , ..., -29.98066621,\n",
       "         -45.10078046, -36.5430683 ],\n",
       "        [-46.97027013, -29.68960981, -37.08884584, ..., -45.69933896,\n",
       "         -31.96985361, -34.47567557]]])\n",
       "Coordinates:\n",
       "  * group    (group) int64 0 1 2 3 4 5 6 7 8 9 ... 90 91 92 93 94 95 96 97 98 99\n",
       "  * x        (x) float64 0.5 1.5 2.5 3.5 4.5 ... 495.5 496.5 497.5 498.5 499.5\n",
       "  * y        (y) float64 -499.5 -498.5 -497.5 -496.5 ... -3.5 -2.5 -1.5 -0.5"
      ]
     },
     "execution_count": 8,
     "metadata": {},
     "output_type": "execute_result"
    }
   ],
   "source": [
    "shadow_loss_data_2"
   ]
  },
  {
   "cell_type": "markdown",
   "metadata": {},
   "source": [
    "## 从全部数据中选择感知数据"
   ]
  },
  {
   "cell_type": "markdown",
   "metadata": {},
   "source": [
    "### 函数定义"
   ]
  },
  {
   "cell_type": "code",
   "execution_count": 9,
   "metadata": {},
   "outputs": [],
   "source": [
    "def get_random_coords(i_point_num):\n",
    "    '''\n",
    "    返回随机选取的x坐标和对应的y坐标\n",
    "    Parameters\n",
    "        ----------\n",
    "        i_point_num: int,返回的坐标点个数\n",
    "        \n",
    "    Returns\n",
    "        ----------\n",
    "        x: array格式\n",
    "        y: array格式\n",
    "    '''\n",
    "    coord_x = np.arange(0.5, 500, 1)\n",
    "    coord_y = np.arange(-499.5, 0, 1)\n",
    "    x, y = np.meshgrid(coord_x, coord_y)\n",
    "    index_ = np.random.choice(range(250000), i_point_num)\n",
    "    return x.flat[index_], y.flat[index_]\n",
    "\n",
    "def get_regular_coords():\n",
    "    coord_x = np.arange(24.5, 500, 50)\n",
    "    coord_y = np.arange(-474.5, 0, 50)\n",
    "    x, y = np.meshgrid(coord_x, coord_y)\n",
    "    return np.array(x.flat), np.array(y.flat)\n",
    "\n",
    "def choose_data_point(all_data, data_type='random', point_num=100):\n",
    "    group_num = all_data.sizes['group']\n",
    "    if data_type == 'random':\n",
    "        x_, y_ = get_random_coords(point_num)\n",
    "        receive_power = np.zeros(shape = (group_num, point_num))\n",
    "        i=0\n",
    "        for x, y in zip(x_, y_):\n",
    "            receive_power[:,i] = all_data.sel(x=x, y=y).values\n",
    "            i += 1\n",
    "        ds = xr.Dataset({'receive_power': (['group', 'point'],  receive_power)},\n",
    "                coords={'x': (['point'], x_),\n",
    "                        'y':(['point'], y_),\n",
    "                        'group':np.arange(group_num),\n",
    "                        'point':np.arange(point_num)}\n",
    "                        )\n",
    "        return ds\n",
    "    if data_type == \"regular\":\n",
    "        x_, y_ = get_regular_coords()\n",
    "        receive_power = np.zeros(shape = (group_num, point_num))\n",
    "        i=0\n",
    "        for x, y in zip(x_, y_):\n",
    "            receive_power[:,i] = all_data.sel(x=x, y=y).values\n",
    "            i += 1\n",
    "        ds = xr.Dataset({'receive_power': (['group', 'point'],  receive_power)},\n",
    "                coords={'x': (['point'], x_),\n",
    "                        'y':(['point'], y_),\n",
    "                        'group':np.arange(group_num),\n",
    "                        'point':np.arange(point_num)}\n",
    "                        )\n",
    "        return ds\n",
    "    \n",
    "    else:\n",
    "        print(\"data_type shoud be 'random' or 'regular' \")"
   ]
  },
  {
   "cell_type": "markdown",
   "metadata": {},
   "source": [
    "### 具体实现"
   ]
  },
  {
   "cell_type": "code",
   "execution_count": 60,
   "metadata": {},
   "outputs": [],
   "source": [
    "sensor_data = choose_data_point(shadow_loss_data,'regular')"
   ]
  },
  {
   "cell_type": "code",
   "execution_count": 10,
   "metadata": {},
   "outputs": [],
   "source": [
    "sensor_data_2 = choose_data_point(shadow_loss_data_2,'regular')"
   ]
  },
  {
   "cell_type": "markdown",
   "metadata": {},
   "source": [
    "## 生成stan模型的数据格式"
   ]
  },
  {
   "cell_type": "code",
   "execution_count": 11,
   "metadata": {},
   "outputs": [],
   "source": [
    "def stan_data_gen(xr_transmmition_data, xs_sensor_data):\n",
    "    stan_data = {}\n",
    "    stan_data['D'] = xr_transmmition_data.sizes['group']\n",
    "    stan_data['N'] = xs_sensor_data.sizes['point'] \n",
    "    stan_data['recv_x'] = list(xs_sensor_data.x.values)\n",
    "    stan_data['recv_y'] = list(xs_sensor_data.y.values)\n",
    "    \n",
    "    stan_data['tran_power'] = list(xr_transmmition_data.sel(var='power').values)\n",
    "    stan_data['tran_x'] = list(xr_transmmition_data.sel(var='x').values)\n",
    "    stan_data['tran_y'] = list(xr_transmmition_data.sel(var='y').values)\n",
    "    \n",
    "    stan_data['tran_recv_distance'] = []\n",
    "    stan_data['Y'] = []\n",
    "    \n",
    "    for group_num in range(xs_sensor_data.sizes['group']):\n",
    "        trans_x , trans_y, _ = xr_transmmition_data.sel(group=group_num).values\n",
    "        distances = np.sqrt(np.square( xs_sensor_data.x.values - trans_x) + np.square(xs_sensor_data.x.values-trans_y))\n",
    "        \n",
    "        stan_data['tran_recv_distance'].append(list(distances))\n",
    "        stan_data['Y'].append(list(xs_sensor_data.sel(group=group_num).receive_power.values))\n",
    "        \n",
    "    return stan_data"
   ]
  },
  {
   "cell_type": "code",
   "execution_count": 62,
   "metadata": {},
   "outputs": [],
   "source": [
    "stan_data = stan_data_gen(transmmition_data, sensor_data)"
   ]
  },
  {
   "cell_type": "code",
   "execution_count": 30,
   "metadata": {},
   "outputs": [
    {
     "name": "stdout",
     "output_type": "stream",
     "text": [
      "DATA cached as:100_random_points.pkl\n"
     ]
    }
   ],
   "source": [
    "StanData_cache(stan_data, '100_re_points')"
   ]
  },
  {
   "cell_type": "code",
   "execution_count": 12,
   "metadata": {},
   "outputs": [
    {
     "name": "stdout",
     "output_type": "stream",
     "text": [
      "DATA cached as:100_groups_100reluar_points.pkl\n"
     ]
    }
   ],
   "source": [
    "stan_data_2 = stan_data_gen(transmmition_data_2, sensor_data_2)\n",
    "StanData_cache(stan_data_2,'100_groups_100reluar_points')"
   ]
  },
  {
   "cell_type": "code",
   "execution_count": 18,
   "metadata": {},
   "outputs": [
    {
     "data": {
      "text/plain": [
       "28.85390081777927"
      ]
     },
     "execution_count": 18,
     "metadata": {},
     "output_type": "execute_result"
    }
   ],
   "source": []
  },
  {
   "cell_type": "code",
   "execution_count": 37,
   "metadata": {},
   "outputs": [],
   "source": [
    "x = sensor_data_2.sel(group=.x.values\n",
    "y = sensor_data.y.values\n",
    "power = sensor_data.sel(group=1).receive_power.values"
   ]
  },
  {
   "cell_type": "code",
   "execution_count": 39,
   "metadata": {},
   "outputs": [
    {
     "data": {
      "text/plain": [
       "Text(0, 0.5, 'Y_coordinate')"
      ]
     },
     "execution_count": 39,
     "metadata": {},
     "output_type": "execute_result"
    },
    {
     "data": {
      "image/png": "[encoded data removed]",
      "text/plain": [
       "<Figure size 720x504 with 2 Axes>"
      ]
     },
     "metadata": {
      "needs_background": "light"
     },
     "output_type": "display_data"
    }
   ],
   "source": [
    "plt.figure(figsize=(10, 7))\n",
    "cmap = mpl.cm.jet\n",
    "norm = mpl.colors.Normalize(vmin=-70, vmax=70)\n",
    "plt.scatter(x=x, y=y, c=power, cmap=cmap, norm=norm)\n",
    "cb = plt.colorbar()\n",
    "cb.set_label(\"Receive Signal Power\")\n",
    "plt.xlabel(\"X_coordinate\")\n",
    "plt.ylabel(\"Y_coordinate\")"
   ]
  },
  {
   "cell_type": "code",
   "execution_count": 40,
   "metadata": {},
   "outputs": [
    {
     "data": {
      "text/plain": [
       "(100,)"
      ]
     },
     "execution_count": 40,
     "metadata": {},
     "output_type": "execute_result"
    }
   ],
   "source": [
    "x.shape"
   ]
  },
  {
   "cell_type": "code",
   "execution_count": null,
   "metadata": {},
   "outputs": [],
   "source": []
  }
 ],
 "metadata": {
  "kernelspec": {
   "display_name": "Python 3",
   "language": "python",
   "name": "python3"
  },
  "language_info": {
   "codemirror_mode": {
    "name": "ipython",
    "version": 3
   },
   "file_extension": ".py",
   "mimetype": "text/x-python",
   "name": "python",
   "nbconvert_exporter": "python",
   "pygments_lexer": "ipython3",
   "version": "3.7.6"
  }
 },
 "nbformat": 4,
 "nbformat_minor": 4
}
